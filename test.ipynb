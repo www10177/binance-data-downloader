{
 "cells": [
  {
   "cell_type": "code",
   "execution_count": 11,
   "id": "92819b00",
   "metadata": {},
   "outputs": [],
   "source": [
    "import polars as pl"
   ]
  },
  {
   "cell_type": "code",
   "execution_count": null,
   "id": "701cbcc9",
   "metadata": {},
   "outputs": [
    {
     "ename": "FileNotFoundError",
     "evalue": "No such file or directory (os error 2): data/2025/08/31/indexPriceKlines/BTCUSDT.parquet\n\nThis error occurred with the following context stack:\n\t[1] 'parquet scan'\n\t[2] 'sink'\n",
     "output_type": "error",
     "traceback": [
      "\u001b[31m---------------------------------------------------------------------------\u001b[39m",
      "\u001b[31mFileNotFoundError\u001b[39m                         Traceback (most recent call last)",
      "\u001b[36mCell\u001b[39m\u001b[36m \u001b[39m\u001b[32mIn[14]\u001b[39m\u001b[32m, line 1\u001b[39m\n\u001b[32m----> \u001b[39m\u001b[32m1\u001b[39m df = \u001b[43mpl\u001b[49m\u001b[43m.\u001b[49m\u001b[43mread_parquet\u001b[49m\u001b[43m(\u001b[49m\u001b[33;43m\"\u001b[39;49m\u001b[33;43mdata/2025/08/31/indexPriceKlines/BTCUSDT.parquet\u001b[39;49m\u001b[33;43m\"\u001b[39;49m\u001b[43m)\u001b[49m\n\u001b[32m      2\u001b[39m df\n",
      "\u001b[36mFile \u001b[39m\u001b[32m~/binance-data-downloader/.venv/lib/python3.13/site-packages/polars/_utils/deprecation.py:128\u001b[39m, in \u001b[36mdeprecate_renamed_parameter.<locals>.decorate.<locals>.wrapper\u001b[39m\u001b[34m(*args, **kwargs)\u001b[39m\n\u001b[32m    123\u001b[39m \u001b[38;5;129m@wraps\u001b[39m(function)\n\u001b[32m    124\u001b[39m \u001b[38;5;28;01mdef\u001b[39;00m\u001b[38;5;250m \u001b[39m\u001b[34mwrapper\u001b[39m(*args: P.args, **kwargs: P.kwargs) -> T:\n\u001b[32m    125\u001b[39m     _rename_keyword_argument(\n\u001b[32m    126\u001b[39m         old_name, new_name, kwargs, function.\u001b[34m__qualname__\u001b[39m, version\n\u001b[32m    127\u001b[39m     )\n\u001b[32m--> \u001b[39m\u001b[32m128\u001b[39m     \u001b[38;5;28;01mreturn\u001b[39;00m \u001b[43mfunction\u001b[49m\u001b[43m(\u001b[49m\u001b[43m*\u001b[49m\u001b[43margs\u001b[49m\u001b[43m,\u001b[49m\u001b[43m \u001b[49m\u001b[43m*\u001b[49m\u001b[43m*\u001b[49m\u001b[43mkwargs\u001b[49m\u001b[43m)\u001b[49m\n",
      "\u001b[36mFile \u001b[39m\u001b[32m~/binance-data-downloader/.venv/lib/python3.13/site-packages/polars/_utils/deprecation.py:128\u001b[39m, in \u001b[36mdeprecate_renamed_parameter.<locals>.decorate.<locals>.wrapper\u001b[39m\u001b[34m(*args, **kwargs)\u001b[39m\n\u001b[32m    123\u001b[39m \u001b[38;5;129m@wraps\u001b[39m(function)\n\u001b[32m    124\u001b[39m \u001b[38;5;28;01mdef\u001b[39;00m\u001b[38;5;250m \u001b[39m\u001b[34mwrapper\u001b[39m(*args: P.args, **kwargs: P.kwargs) -> T:\n\u001b[32m    125\u001b[39m     _rename_keyword_argument(\n\u001b[32m    126\u001b[39m         old_name, new_name, kwargs, function.\u001b[34m__qualname__\u001b[39m, version\n\u001b[32m    127\u001b[39m     )\n\u001b[32m--> \u001b[39m\u001b[32m128\u001b[39m     \u001b[38;5;28;01mreturn\u001b[39;00m \u001b[43mfunction\u001b[49m\u001b[43m(\u001b[49m\u001b[43m*\u001b[49m\u001b[43margs\u001b[49m\u001b[43m,\u001b[49m\u001b[43m \u001b[49m\u001b[43m*\u001b[49m\u001b[43m*\u001b[49m\u001b[43mkwargs\u001b[49m\u001b[43m)\u001b[49m\n",
      "\u001b[36mFile \u001b[39m\u001b[32m~/binance-data-downloader/.venv/lib/python3.13/site-packages/polars/io/parquet/functions.py:289\u001b[39m, in \u001b[36mread_parquet\u001b[39m\u001b[34m(source, columns, n_rows, row_index_name, row_index_offset, parallel, use_statistics, hive_partitioning, glob, schema, hive_schema, try_parse_hive_dates, rechunk, low_memory, storage_options, credential_provider, retries, use_pyarrow, pyarrow_options, memory_map, include_file_paths, missing_columns, allow_missing_columns)\u001b[39m\n\u001b[32m    286\u001b[39m     \u001b[38;5;28;01melse\u001b[39;00m:\n\u001b[32m    287\u001b[39m         lf = lf.select(columns)\n\u001b[32m--> \u001b[39m\u001b[32m289\u001b[39m \u001b[38;5;28;01mreturn\u001b[39;00m \u001b[43mlf\u001b[49m\u001b[43m.\u001b[49m\u001b[43mcollect\u001b[49m\u001b[43m(\u001b[49m\u001b[43m)\u001b[49m\n",
      "\u001b[36mFile \u001b[39m\u001b[32m~/binance-data-downloader/.venv/lib/python3.13/site-packages/polars/_utils/deprecation.py:97\u001b[39m, in \u001b[36mdeprecate_streaming_parameter.<locals>.decorate.<locals>.wrapper\u001b[39m\u001b[34m(*args, **kwargs)\u001b[39m\n\u001b[32m     93\u001b[39m         kwargs[\u001b[33m\"\u001b[39m\u001b[33mengine\u001b[39m\u001b[33m\"\u001b[39m] = \u001b[33m\"\u001b[39m\u001b[33min-memory\u001b[39m\u001b[33m\"\u001b[39m\n\u001b[32m     95\u001b[39m     \u001b[38;5;28;01mdel\u001b[39;00m kwargs[\u001b[33m\"\u001b[39m\u001b[33mstreaming\u001b[39m\u001b[33m\"\u001b[39m]\n\u001b[32m---> \u001b[39m\u001b[32m97\u001b[39m \u001b[38;5;28;01mreturn\u001b[39;00m \u001b[43mfunction\u001b[49m\u001b[43m(\u001b[49m\u001b[43m*\u001b[49m\u001b[43margs\u001b[49m\u001b[43m,\u001b[49m\u001b[43m \u001b[49m\u001b[43m*\u001b[49m\u001b[43m*\u001b[49m\u001b[43mkwargs\u001b[49m\u001b[43m)\u001b[49m\n",
      "\u001b[36mFile \u001b[39m\u001b[32m~/binance-data-downloader/.venv/lib/python3.13/site-packages/polars/lazyframe/opt_flags.py:330\u001b[39m, in \u001b[36mforward_old_opt_flags.<locals>.decorate.<locals>.wrapper\u001b[39m\u001b[34m(*args, **kwargs)\u001b[39m\n\u001b[32m    327\u001b[39m         optflags = cb(optflags, kwargs.pop(key))  \u001b[38;5;66;03m# type: ignore[no-untyped-call,unused-ignore]\u001b[39;00m\n\u001b[32m    329\u001b[39m kwargs[\u001b[33m\"\u001b[39m\u001b[33moptimizations\u001b[39m\u001b[33m\"\u001b[39m] = optflags\n\u001b[32m--> \u001b[39m\u001b[32m330\u001b[39m \u001b[38;5;28;01mreturn\u001b[39;00m \u001b[43mfunction\u001b[49m\u001b[43m(\u001b[49m\u001b[43m*\u001b[49m\u001b[43margs\u001b[49m\u001b[43m,\u001b[49m\u001b[43m \u001b[49m\u001b[43m*\u001b[49m\u001b[43m*\u001b[49m\u001b[43mkwargs\u001b[49m\u001b[43m)\u001b[49m\n",
      "\u001b[36mFile \u001b[39m\u001b[32m~/binance-data-downloader/.venv/lib/python3.13/site-packages/polars/lazyframe/frame.py:2335\u001b[39m, in \u001b[36mLazyFrame.collect\u001b[39m\u001b[34m(self, type_coercion, predicate_pushdown, projection_pushdown, simplify_expression, slice_pushdown, comm_subplan_elim, comm_subexpr_elim, cluster_with_columns, collapse_joins, no_optimization, engine, background, optimizations, **_kwargs)\u001b[39m\n\u001b[32m   2333\u001b[39m \u001b[38;5;66;03m# Only for testing purposes\u001b[39;00m\n\u001b[32m   2334\u001b[39m callback = _kwargs.get(\u001b[33m\"\u001b[39m\u001b[33mpost_opt_callback\u001b[39m\u001b[33m\"\u001b[39m, callback)\n\u001b[32m-> \u001b[39m\u001b[32m2335\u001b[39m \u001b[38;5;28;01mreturn\u001b[39;00m wrap_df(\u001b[43mldf\u001b[49m\u001b[43m.\u001b[49m\u001b[43mcollect\u001b[49m\u001b[43m(\u001b[49m\u001b[43mengine\u001b[49m\u001b[43m,\u001b[49m\u001b[43m \u001b[49m\u001b[43mcallback\u001b[49m\u001b[43m)\u001b[49m)\n",
      "\u001b[31mFileNotFoundError\u001b[39m: No such file or directory (os error 2): data/2025/08/31/indexPriceKlines/BTCUSDT.parquet\n\nThis error occurred with the following context stack:\n\t[1] 'parquet scan'\n\t[2] 'sink'\n"
     ]
    }
   ],
   "source": [
    "df = pl.read_parquet(\"data/2025/08/31/indexPriceKlines/BTCUSDT-1m.parquet\")\n",
    "df"
   ]
  },
  {
   "cell_type": "markdown",
   "id": "c7d3a319",
   "metadata": {},
   "source": [
    "# Pivot Book Depth Data by Percentage\n",
    "This cell pivots the bookDepth data so each percentage becomes its own set of columns (depth and notional) for each timestamp."
   ]
  },
  {
   "cell_type": "code",
   "execution_count": 10,
   "id": "adf614d5",
   "metadata": {},
   "outputs": [
    {
     "name": "stderr",
     "output_type": "stream",
     "text": [
      "/tmp/ipykernel_64248/2873259995.py:6: DeprecationWarning: the argument `columns` for `DataFrame.pivot` is deprecated. It was renamed to `on` in version 1.0.0.\n",
      "  pivoted = df.pivot(\n"
     ]
    },
    {
     "data": {
      "text/html": [
       "<div><style>\n",
       ".dataframe > thead > tr,\n",
       ".dataframe > tbody > tr {\n",
       "  text-align: right;\n",
       "  white-space: pre-wrap;\n",
       "}\n",
       "</style>\n",
       "<small>shape: (2_816, 21)</small><table border=\"1\" class=\"dataframe\"><thead><tr><th>timestamp</th><th>depth_-5</th><th>depth_-4</th><th>depth_-3</th><th>depth_-2</th><th>depth_-1</th><th>depth_1</th><th>depth_2</th><th>depth_3</th><th>depth_4</th><th>depth_5</th><th>notional_-5</th><th>notional_-4</th><th>notional_-3</th><th>notional_-2</th><th>notional_-1</th><th>notional_1</th><th>notional_2</th><th>notional_3</th><th>notional_4</th><th>notional_5</th></tr><tr><td>datetime[μs]</td><td>decimal[38,8]</td><td>decimal[38,8]</td><td>decimal[38,8]</td><td>decimal[38,8]</td><td>decimal[38,8]</td><td>decimal[38,8]</td><td>decimal[38,8]</td><td>decimal[38,8]</td><td>decimal[38,8]</td><td>decimal[38,8]</td><td>decimal[38,8]</td><td>decimal[38,8]</td><td>decimal[38,8]</td><td>decimal[38,8]</td><td>decimal[38,8]</td><td>decimal[38,8]</td><td>decimal[38,8]</td><td>decimal[38,8]</td><td>decimal[38,8]</td><td>decimal[38,8]</td></tr></thead><tbody><tr><td>2025-08-31 00:00:07</td><td>8195.79700000</td><td>7189.70400000</td><td>6233.19600000</td><td>4763.06400000</td><td>2390.11100000</td><td>2312.37500000</td><td>3412.08600000</td><td>3968.09300000</td><td>4424.58000000</td><td>5690.02400000</td><td>873632401.16330000</td><td>769022533.50510000</td><td>668597710.52280000</td><td>512791572.94260000</td><td>258667760.32470000</td><td>252483231.60030000</td><td>373827142.42790000</td><td>435748524.27700000</td><td>487148449.68630000</td><td>630682653.28120000</td></tr><tr><td>2025-08-31 00:00:52</td><td>8488.02500000</td><td>7489.50100000</td><td>6418.54200000</td><td>5027.12000000</td><td>2686.68900000</td><td>2838.29600000</td><td>3939.35200000</td><td>4495.75300000</td><td>4955.81000000</td><td>6226.39400000</td><td>905374925.27770000</td><td>801540684.70620000</td><td>689036773.39260000</td><td>541490011.00680000</td><td>290815045.44000000</td><td>309977092.28940000</td><td>431486106.59590000</td><td>493461562.51360000</td><td>545274376.08580000</td><td>689409134.80840000</td></tr><tr><td>2025-08-31 00:01:08</td><td>8296.48300000</td><td>7290.35400000</td><td>6333.77400000</td><td>4868.77900000</td><td>2511.57200000</td><td>2655.99100000</td><td>3764.95800000</td><td>4325.93700000</td><td>4781.97900000</td><td>6047.85300000</td><td>884580164.15750000</td><td>779966449.79720000</td><td>679533996.89980000</td><td>524273465.80890000</td><td>271839633.34280000</td><td>289965391.43040000</td><td>412330697.35600000</td><td>474804931.52140000</td><td>526154593.19100000</td><td>669737445.62550000</td></tr><tr><td>2025-08-31 00:01:32</td><td>8415.64300000</td><td>7407.71200000</td><td>6334.66700000</td><td>4943.89900000</td><td>2598.86900000</td><td>2738.57600000</td><td>3844.17800000</td><td>4400.70500000</td><td>4860.33200000</td><td>6131.54500000</td><td>897492108.68090000</td><td>792681454.73320000</td><td>679960057.62950000</td><td>532484367.19360000</td><td>281315710.30180000</td><td>299070994.52190000</td><td>421081828.42420000</td><td>483070608.87360000</td><td>534834612.75670000</td><td>679040068.29860000</td></tr><tr><td>2025-08-31 00:02:01</td><td>8442.71900000</td><td>7439.27400000</td><td>6366.17600000</td><td>4976.79900000</td><td>2621.88900000</td><td>2714.39300000</td><td>3814.14900000</td><td>4371.14100000</td><td>4830.75700000</td><td>6102.34800000</td><td>900499829.68700000</td><td>796154517.00800000</td><td>683427430.72930000</td><td>536099131.19570000</td><td>283864740.67690000</td><td>296401568.15650000</td><td>417768914.26870000</td><td>479809854.71270000</td><td>531572694.10940000</td><td>675821352.34700000</td></tr><tr><td>&hellip;</td><td>&hellip;</td><td>&hellip;</td><td>&hellip;</td><td>&hellip;</td><td>&hellip;</td><td>&hellip;</td><td>&hellip;</td><td>&hellip;</td><td>&hellip;</td><td>&hellip;</td><td>&hellip;</td><td>&hellip;</td><td>&hellip;</td><td>&hellip;</td><td>&hellip;</td><td>&hellip;</td><td>&hellip;</td><td>&hellip;</td><td>&hellip;</td><td>&hellip;</td></tr><tr><td>2025-08-31 23:57:33</td><td>8372.54100000</td><td>7751.98900000</td><td>6737.33600000</td><td>5092.01900000</td><td>3286.29700000</td><td>1793.49200000</td><td>2794.88100000</td><td>3342.41700000</td><td>3734.39500000</td><td>5049.07500000</td><td>890031711.09990000</td><td>825889198.79180000</td><td>720090632.66200000</td><td>546419137.03570000</td><td>353903953.54900000</td><td>194758662.67610000</td><td>304710413.20420000</td><td>365441118.19260000</td><td>409355704.38700000</td><td>558250012.55350000</td></tr><tr><td>2025-08-31 23:58:02</td><td>8337.37700000</td><td>7717.59100000</td><td>6704.38600000</td><td>5059.45800000</td><td>3250.29600000</td><td>1786.86800000</td><td>2788.36400000</td><td>3335.90400000</td><td>3728.37100000</td><td>5043.05100000</td><td>886259627.55270000</td><td>822195788.96780000</td><td>716547828.00810000</td><td>542917611.99820000</td><td>350033381.56500000</td><td>194036380.09290000</td><td>304000164.56470000</td><td>364730801.35480000</td><td>408699880.63830000</td><td>557594170.36080000</td></tr><tr><td>2025-08-31 23:58:32</td><td>8357.53000000</td><td>7738.68000000</td><td>6730.19300000</td><td>5087.41000000</td><td>3314.77600000</td><td>1833.92300000</td><td>2856.59400000</td><td>3400.18200000</td><td>3798.91900000</td><td>5112.43900000</td><td>888387452.45310000</td><td>824432837.07470000</td><td>719280241.04420000</td><td>545881683.84060000</td><td>356915392.80180000</td><td>199115429.37190000</td><td>311389154.57310000</td><td>371672288.96980000</td><td>416335932.86400000</td><td>565094222.17750000</td></tr><tr><td>2025-08-31 23:59:03</td><td>8280.27300000</td><td>7670.87600000</td><td>6666.70800000</td><td>5036.20300000</td><td>3288.36000000</td><td>1777.62900000</td><td>2799.26000000</td><td>3340.26600000</td><td>3732.20500000</td><td>5059.12600000</td><td>880101263.57840000</td><td>817126631.48310000</td><td>712427735.99980000</td><td>540330896.01100000</td><td>354029595.76600000</td><td>192984503.77600000</td><td>305139613.70280000</td><td>365129868.79950000</td><td>409020641.62960000</td><td>559285580.44210000</td></tr><tr><td>2025-08-31 23:59:31</td><td>8366.87800000</td><td>7748.26400000</td><td>6721.82300000</td><td>5088.18000000</td><td>3321.60200000</td><td>1748.44000000</td><td>2763.99900000</td><td>3305.99000000</td><td>3707.00200000</td><td>5022.06000000</td><td>889397399.41990000</td><td>825458512.33000000</td><td>718428329.06080000</td><td>545987101.93530000</td><td>357666073.12890000</td><td>189849777.99820000</td><td>301349053.45330000</td><td>361457223.44360000</td><td>406377990.61790000</td><td>555314576.98830000</td></tr></tbody></table></div>"
      ],
      "text/plain": [
       "shape: (2_816, 21)\n",
       "┌───────────┬───────────┬───────────┬───────────┬───┬───────────┬───────────┬───────────┬──────────┐\n",
       "│ timestamp ┆ depth_-5  ┆ depth_-4  ┆ depth_-3  ┆ … ┆ notional_ ┆ notional_ ┆ notional_ ┆ notional │\n",
       "│ ---       ┆ ---       ┆ ---       ┆ ---       ┆   ┆ 2         ┆ 3         ┆ 4         ┆ _5       │\n",
       "│ datetime[ ┆ decimal[3 ┆ decimal[3 ┆ decimal[3 ┆   ┆ ---       ┆ ---       ┆ ---       ┆ ---      │\n",
       "│ μs]       ┆ 8,8]      ┆ 8,8]      ┆ 8,8]      ┆   ┆ decimal[3 ┆ decimal[3 ┆ decimal[3 ┆ decimal[ │\n",
       "│           ┆           ┆           ┆           ┆   ┆ 8,8]      ┆ 8,8]      ┆ 8,8]      ┆ 38,8]    │\n",
       "╞═══════════╪═══════════╪═══════════╪═══════════╪═══╪═══════════╪═══════════╪═══════════╪══════════╡\n",
       "│ 2025-08-3 ┆ 8195.7970 ┆ 7189.7040 ┆ 6233.1960 ┆ … ┆ 373827142 ┆ 435748524 ┆ 487148449 ┆ 63068265 │\n",
       "│ 1         ┆ 0000      ┆ 0000      ┆ 0000      ┆   ┆ .42790000 ┆ .27700000 ┆ .68630000 ┆ 3.281200 │\n",
       "│ 00:00:07  ┆           ┆           ┆           ┆   ┆           ┆           ┆           ┆ 00       │\n",
       "│ 2025-08-3 ┆ 8488.0250 ┆ 7489.5010 ┆ 6418.5420 ┆ … ┆ 431486106 ┆ 493461562 ┆ 545274376 ┆ 68940913 │\n",
       "│ 1         ┆ 0000      ┆ 0000      ┆ 0000      ┆   ┆ .59590000 ┆ .51360000 ┆ .08580000 ┆ 4.808400 │\n",
       "│ 00:00:52  ┆           ┆           ┆           ┆   ┆           ┆           ┆           ┆ 00       │\n",
       "│ 2025-08-3 ┆ 8296.4830 ┆ 7290.3540 ┆ 6333.7740 ┆ … ┆ 412330697 ┆ 474804931 ┆ 526154593 ┆ 66973744 │\n",
       "│ 1         ┆ 0000      ┆ 0000      ┆ 0000      ┆   ┆ .35600000 ┆ .52140000 ┆ .19100000 ┆ 5.625500 │\n",
       "│ 00:01:08  ┆           ┆           ┆           ┆   ┆           ┆           ┆           ┆ 00       │\n",
       "│ 2025-08-3 ┆ 8415.6430 ┆ 7407.7120 ┆ 6334.6670 ┆ … ┆ 421081828 ┆ 483070608 ┆ 534834612 ┆ 67904006 │\n",
       "│ 1         ┆ 0000      ┆ 0000      ┆ 0000      ┆   ┆ .42420000 ┆ .87360000 ┆ .75670000 ┆ 8.298600 │\n",
       "│ 00:01:32  ┆           ┆           ┆           ┆   ┆           ┆           ┆           ┆ 00       │\n",
       "│ 2025-08-3 ┆ 8442.7190 ┆ 7439.2740 ┆ 6366.1760 ┆ … ┆ 417768914 ┆ 479809854 ┆ 531572694 ┆ 67582135 │\n",
       "│ 1         ┆ 0000      ┆ 0000      ┆ 0000      ┆   ┆ .26870000 ┆ .71270000 ┆ .10940000 ┆ 2.347000 │\n",
       "│ 00:02:01  ┆           ┆           ┆           ┆   ┆           ┆           ┆           ┆ 00       │\n",
       "│ …         ┆ …         ┆ …         ┆ …         ┆ … ┆ …         ┆ …         ┆ …         ┆ …        │\n",
       "│ 2025-08-3 ┆ 8372.5410 ┆ 7751.9890 ┆ 6737.3360 ┆ … ┆ 304710413 ┆ 365441118 ┆ 409355704 ┆ 55825001 │\n",
       "│ 1         ┆ 0000      ┆ 0000      ┆ 0000      ┆   ┆ .20420000 ┆ .19260000 ┆ .38700000 ┆ 2.553500 │\n",
       "│ 23:57:33  ┆           ┆           ┆           ┆   ┆           ┆           ┆           ┆ 00       │\n",
       "│ 2025-08-3 ┆ 8337.3770 ┆ 7717.5910 ┆ 6704.3860 ┆ … ┆ 304000164 ┆ 364730801 ┆ 408699880 ┆ 55759417 │\n",
       "│ 1         ┆ 0000      ┆ 0000      ┆ 0000      ┆   ┆ .56470000 ┆ .35480000 ┆ .63830000 ┆ 0.360800 │\n",
       "│ 23:58:02  ┆           ┆           ┆           ┆   ┆           ┆           ┆           ┆ 00       │\n",
       "│ 2025-08-3 ┆ 8357.5300 ┆ 7738.6800 ┆ 6730.1930 ┆ … ┆ 311389154 ┆ 371672288 ┆ 416335932 ┆ 56509422 │\n",
       "│ 1         ┆ 0000      ┆ 0000      ┆ 0000      ┆   ┆ .57310000 ┆ .96980000 ┆ .86400000 ┆ 2.177500 │\n",
       "│ 23:58:32  ┆           ┆           ┆           ┆   ┆           ┆           ┆           ┆ 00       │\n",
       "│ 2025-08-3 ┆ 8280.2730 ┆ 7670.8760 ┆ 6666.7080 ┆ … ┆ 305139613 ┆ 365129868 ┆ 409020641 ┆ 55928558 │\n",
       "│ 1         ┆ 0000      ┆ 0000      ┆ 0000      ┆   ┆ .70280000 ┆ .79950000 ┆ .62960000 ┆ 0.442100 │\n",
       "│ 23:59:03  ┆           ┆           ┆           ┆   ┆           ┆           ┆           ┆ 00       │\n",
       "│ 2025-08-3 ┆ 8366.8780 ┆ 7748.2640 ┆ 6721.8230 ┆ … ┆ 301349053 ┆ 361457223 ┆ 406377990 ┆ 55531457 │\n",
       "│ 1         ┆ 0000      ┆ 0000      ┆ 0000      ┆   ┆ .45330000 ┆ .44360000 ┆ .61790000 ┆ 6.988300 │\n",
       "│ 23:59:31  ┆           ┆           ┆           ┆   ┆           ┆           ┆           ┆ 00       │\n",
       "└───────────┴───────────┴───────────┴───────────┴───┴───────────┴───────────┴───────────┴──────────┘"
      ]
     },
     "execution_count": 10,
     "metadata": {},
     "output_type": "execute_result"
    }
   ],
   "source": [
    "import polars as pl\n",
    "\n",
    "df = pl.read_parquet(\"data/2025/08/31/bookDepth/BTCUSDT.parquet\")\n",
    "\n",
    "# Pivot so each percentage becomes its own depth and notional columns\n",
    "pivoted = df.pivot(\n",
    "    values=[\"depth\", \"notional\"], index=[\"timestamp\"], columns=\"percentage\"\n",
    ")\n",
    "\n",
    "\n",
    "pivoted"
   ]
  },
  {
   "cell_type": "code",
   "execution_count": null,
   "id": "faea1359",
   "metadata": {},
   "outputs": [
    {
     "data": {
      "text/html": [
       "<div><style>\n",
       ".dataframe > thead > tr,\n",
       ".dataframe > tbody > tr {\n",
       "  text-align: right;\n",
       "  white-space: pre-wrap;\n",
       "}\n",
       "</style>\n",
       "<small>shape: (1_336_836, 7)</small><table border=\"1\" class=\"dataframe\"><thead><tr><th>agg_trade_id</th><th>price</th><th>quantity</th><th>first_trade_id</th><th>last_trade_id</th><th>transact_time</th><th>is_buyer_maker</th></tr><tr><td>i64</td><td>decimal[38,2]</td><td>decimal[38,3]</td><td>i64</td><td>i64</td><td>i64</td><td>bool</td></tr></thead><tbody><tr><td>2424542489</td><td>4372.00</td><td>0.140</td><td>6309044706</td><td>6309044706</td><td>1756598401116</td><td>false</td></tr><tr><td>2424542490</td><td>4371.99</td><td>0.028</td><td>6309044707</td><td>6309044707</td><td>1756598401142</td><td>true</td></tr><tr><td>2424542491</td><td>4372.00</td><td>0.615</td><td>6309044708</td><td>6309044709</td><td>1756598401159</td><td>false</td></tr><tr><td>2424542492</td><td>4371.99</td><td>0.463</td><td>6309044710</td><td>6309044711</td><td>1756598401212</td><td>true</td></tr><tr><td>2424542493</td><td>4372.00</td><td>55.452</td><td>6309044712</td><td>6309044715</td><td>1756598401288</td><td>false</td></tr><tr><td>&hellip;</td><td>&hellip;</td><td>&hellip;</td><td>&hellip;</td><td>&hellip;</td><td>&hellip;</td><td>&hellip;</td></tr><tr><td>2425879320</td><td>4389.59</td><td>0.094</td><td>6312821459</td><td>6312821459</td><td>1756684799519</td><td>false</td></tr><tr><td>2425879321</td><td>4389.58</td><td>0.255</td><td>6312821460</td><td>6312821462</td><td>1756684799565</td><td>true</td></tr><tr><td>2425879322</td><td>4389.58</td><td>1.100</td><td>6312821463</td><td>6312821464</td><td>1756684799858</td><td>true</td></tr><tr><td>2425879323</td><td>4389.59</td><td>0.007</td><td>6312821465</td><td>6312821465</td><td>1756684799967</td><td>false</td></tr><tr><td>2425879324</td><td>4389.58</td><td>0.670</td><td>6312821466</td><td>6312821467</td><td>1756684799977</td><td>true</td></tr></tbody></table></div>"
      ],
      "text/plain": [
       "shape: (1_336_836, 7)\n",
       "┌──────────────┬─────────────┬─────────────┬─────────────┬─────────────┬─────────────┬─────────────┐\n",
       "│ agg_trade_id ┆ price       ┆ quantity    ┆ first_trade ┆ last_trade_ ┆ transact_ti ┆ is_buyer_ma │\n",
       "│ ---          ┆ ---         ┆ ---         ┆ _id         ┆ id          ┆ me          ┆ ker         │\n",
       "│ i64          ┆ decimal[38, ┆ decimal[38, ┆ ---         ┆ ---         ┆ ---         ┆ ---         │\n",
       "│              ┆ 2]          ┆ 3]          ┆ i64         ┆ i64         ┆ i64         ┆ bool        │\n",
       "╞══════════════╪═════════════╪═════════════╪═════════════╪═════════════╪═════════════╪═════════════╡\n",
       "│ 2424542489   ┆ 4372.00     ┆ 0.140       ┆ 6309044706  ┆ 6309044706  ┆ 17565984011 ┆ false       │\n",
       "│              ┆             ┆             ┆             ┆             ┆ 16          ┆             │\n",
       "│ 2424542490   ┆ 4371.99     ┆ 0.028       ┆ 6309044707  ┆ 6309044707  ┆ 17565984011 ┆ true        │\n",
       "│              ┆             ┆             ┆             ┆             ┆ 42          ┆             │\n",
       "│ 2424542491   ┆ 4372.00     ┆ 0.615       ┆ 6309044708  ┆ 6309044709  ┆ 17565984011 ┆ false       │\n",
       "│              ┆             ┆             ┆             ┆             ┆ 59          ┆             │\n",
       "│ 2424542492   ┆ 4371.99     ┆ 0.463       ┆ 6309044710  ┆ 6309044711  ┆ 17565984012 ┆ true        │\n",
       "│              ┆             ┆             ┆             ┆             ┆ 12          ┆             │\n",
       "│ 2424542493   ┆ 4372.00     ┆ 55.452      ┆ 6309044712  ┆ 6309044715  ┆ 17565984012 ┆ false       │\n",
       "│              ┆             ┆             ┆             ┆             ┆ 88          ┆             │\n",
       "│ …            ┆ …           ┆ …           ┆ …           ┆ …           ┆ …           ┆ …           │\n",
       "│ 2425879320   ┆ 4389.59     ┆ 0.094       ┆ 6312821459  ┆ 6312821459  ┆ 17566847995 ┆ false       │\n",
       "│              ┆             ┆             ┆             ┆             ┆ 19          ┆             │\n",
       "│ 2425879321   ┆ 4389.58     ┆ 0.255       ┆ 6312821460  ┆ 6312821462  ┆ 17566847995 ┆ true        │\n",
       "│              ┆             ┆             ┆             ┆             ┆ 65          ┆             │\n",
       "│ 2425879322   ┆ 4389.58     ┆ 1.100       ┆ 6312821463  ┆ 6312821464  ┆ 17566847998 ┆ true        │\n",
       "│              ┆             ┆             ┆             ┆             ┆ 58          ┆             │\n",
       "│ 2425879323   ┆ 4389.59     ┆ 0.007       ┆ 6312821465  ┆ 6312821465  ┆ 17566847999 ┆ false       │\n",
       "│              ┆             ┆             ┆             ┆             ┆ 67          ┆             │\n",
       "│ 2425879324   ┆ 4389.58     ┆ 0.670       ┆ 6312821466  ┆ 6312821467  ┆ 17566847999 ┆ true        │\n",
       "│              ┆             ┆             ┆             ┆             ┆ 77          ┆             │\n",
       "└──────────────┴─────────────┴─────────────┴─────────────┴─────────────┴─────────────┴─────────────┘"
      ]
     },
     "execution_count": 5,
     "metadata": {},
     "output_type": "execute_result"
    }
   ],
   "source": []
  },
  {
   "cell_type": "code",
   "execution_count": null,
   "id": "9f9f0f34",
   "metadata": {},
   "outputs": [],
   "source": []
  }
 ],
 "metadata": {
  "kernelspec": {
   "display_name": "crypto-data",
   "language": "python",
   "name": "python3"
  },
  "language_info": {
   "codemirror_mode": {
    "name": "ipython",
    "version": 3
   },
   "file_extension": ".py",
   "mimetype": "text/x-python",
   "name": "python",
   "nbconvert_exporter": "python",
   "pygments_lexer": "ipython3",
   "version": "3.13.7"
  }
 },
 "nbformat": 4,
 "nbformat_minor": 5
}
