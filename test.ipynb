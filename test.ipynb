{
 "cells": [
  {
   "cell_type": "code",
   "execution_count": 1,
   "id": "92819b00",
   "metadata": {},
   "outputs": [],
   "source": [
    "import polars as pl"
   ]
  },
  {
   "cell_type": "code",
   "execution_count": 11,
   "id": "701cbcc9",
   "metadata": {},
   "outputs": [
    {
     "data": {
      "text/html": [
       "<div><style>\n",
       ".dataframe > thead > tr,\n",
       ".dataframe > tbody > tr {\n",
       "  text-align: right;\n",
       "  white-space: pre-wrap;\n",
       "}\n",
       "</style>\n",
       "<small>shape: (1_440, 12)</small><table border=\"1\" class=\"dataframe\"><thead><tr><th>open_time</th><th>open</th><th>high</th><th>low</th><th>close</th><th>volume</th><th>close_time</th><th>quote_volume</th><th>count</th><th>taker_buy_volume</th><th>taker_buy_quote_volume</th><th>ignore</th></tr><tr><td>str</td><td>decimal[38,8]</td><td>decimal[38,8]</td><td>decimal[38,8]</td><td>decimal[38,8]</td><td>decimal[38,8]</td><td>str</td><td>str</td><td>str</td><td>str</td><td>str</td><td>str</td></tr></thead><tbody><tr><td>&quot;1756598400000&quot;</td><td>4372.00000000</td><td>4372.41000000</td><td>4370.34000000</td><td>4370.34000000</td><td>1097.29000000</td><td>&quot;1756598459999&quot;</td><td>&quot;4796886.01196&quot;</td><td>&quot;1886&quot;</td><td>&quot;448.308&quot;</td><td>&quot;1959794.04395&quot;</td><td>&quot;0&quot;</td></tr><tr><td>&quot;1756598460000&quot;</td><td>4370.33000000</td><td>4374.00000000</td><td>4370.33000000</td><td>4374.00000000</td><td>513.84700000</td><td>&quot;1756598519999&quot;</td><td>&quot;2246482.75404&quot;</td><td>&quot;1724&quot;</td><td>&quot;329.551&quot;</td><td>&quot;1440820.64138&quot;</td><td>&quot;0&quot;</td></tr><tr><td>&quot;1756598520000&quot;</td><td>4374.00000000</td><td>4376.52000000</td><td>4373.99000000</td><td>4375.95000000</td><td>1441.79700000</td><td>&quot;1756598579999&quot;</td><td>&quot;6308050.76406&quot;</td><td>&quot;1995&quot;</td><td>&quot;1107.093&quot;</td><td>&quot;4843832.56408&quot;</td><td>&quot;0&quot;</td></tr><tr><td>&quot;1756598580000&quot;</td><td>4375.95000000</td><td>4377.68000000</td><td>4373.97000000</td><td>4374.75000000</td><td>1491.05600000</td><td>&quot;1756598639999&quot;</td><td>&quot;6525099.37184&quot;</td><td>&quot;2025&quot;</td><td>&quot;874.187&quot;</td><td>&quot;3825725.0192&quot;</td><td>&quot;0&quot;</td></tr><tr><td>&quot;1756598640000&quot;</td><td>4374.76000000</td><td>4376.38000000</td><td>4372.31000000</td><td>4372.33000000</td><td>1456.38600000</td><td>&quot;1756598699999&quot;</td><td>&quot;6369955.53393&quot;</td><td>&quot;2067&quot;</td><td>&quot;267.918&quot;</td><td>&quot;1171738.66056&quot;</td><td>&quot;0&quot;</td></tr><tr><td>&hellip;</td><td>&hellip;</td><td>&hellip;</td><td>&hellip;</td><td>&hellip;</td><td>&hellip;</td><td>&hellip;</td><td>&hellip;</td><td>&hellip;</td><td>&hellip;</td><td>&hellip;</td><td>&hellip;</td></tr><tr><td>&quot;1756684500000&quot;</td><td>4386.12000000</td><td>4387.46000000</td><td>4384.61000000</td><td>4387.22000000</td><td>1632.49800000</td><td>&quot;1756684559999&quot;</td><td>&quot;7159709.54716&quot;</td><td>&quot;2609&quot;</td><td>&quot;1061.264&quot;</td><td>&quot;4654474.02216&quot;</td><td>&quot;0&quot;</td></tr><tr><td>&quot;1756684560000&quot;</td><td>4387.22000000</td><td>4389.02000000</td><td>4385.81000000</td><td>4389.02000000</td><td>1481.09300000</td><td>&quot;1756684619999&quot;</td><td>&quot;6498469.43323&quot;</td><td>&quot;2543&quot;</td><td>&quot;866.122&quot;</td><td>&quot;3800123.81356&quot;</td><td>&quot;0&quot;</td></tr><tr><td>&quot;1756684620000&quot;</td><td>4389.02000000</td><td>4389.93000000</td><td>4387.49000000</td><td>4387.72000000</td><td>2828.58600000</td><td>&quot;1756684679999&quot;</td><td>&quot;12414023.94982&quot;</td><td>&quot;3190&quot;</td><td>&quot;2005.31&quot;</td><td>&quot;8800762.28671&quot;</td><td>&quot;0&quot;</td></tr><tr><td>&quot;1756684680000&quot;</td><td>4387.72000000</td><td>4389.11000000</td><td>4386.37000000</td><td>4386.70000000</td><td>1574.15000000</td><td>&quot;1756684739999&quot;</td><td>&quot;6906699.68905&quot;</td><td>&quot;2812&quot;</td><td>&quot;740.183&quot;</td><td>&quot;3247434.47681&quot;</td><td>&quot;0&quot;</td></tr><tr><td>&quot;1756684740000&quot;</td><td>4386.70000000</td><td>4390.62000000</td><td>4386.69000000</td><td>4389.58000000</td><td>1524.32400000</td><td>&quot;1756684799999&quot;</td><td>&quot;6690574.30968&quot;</td><td>&quot;2284&quot;</td><td>&quot;1078.582&quot;</td><td>&quot;4734039.10822&quot;</td><td>&quot;0&quot;</td></tr></tbody></table></div>"
      ],
      "text/plain": [
       "shape: (1_440, 12)\n",
       "┌────────────┬────────────┬────────────┬────────────┬───┬───────┬────────────┬────────────┬────────┐\n",
       "│ open_time  ┆ open       ┆ high       ┆ low        ┆ … ┆ count ┆ taker_buy_ ┆ taker_buy_ ┆ ignore │\n",
       "│ ---        ┆ ---        ┆ ---        ┆ ---        ┆   ┆ ---   ┆ volume     ┆ quote_volu ┆ ---    │\n",
       "│ str        ┆ decimal[38 ┆ decimal[38 ┆ decimal[38 ┆   ┆ str   ┆ ---        ┆ me         ┆ str    │\n",
       "│            ┆ ,8]        ┆ ,8]        ┆ ,8]        ┆   ┆       ┆ str        ┆ ---        ┆        │\n",
       "│            ┆            ┆            ┆            ┆   ┆       ┆            ┆ str        ┆        │\n",
       "╞════════════╪════════════╪════════════╪════════════╪═══╪═══════╪════════════╪════════════╪════════╡\n",
       "│ 1756598400 ┆ 4372.00000 ┆ 4372.41000 ┆ 4370.34000 ┆ … ┆ 1886  ┆ 448.308    ┆ 1959794.04 ┆ 0      │\n",
       "│ 000        ┆ 000        ┆ 000        ┆ 000        ┆   ┆       ┆            ┆ 395        ┆        │\n",
       "│ 1756598460 ┆ 4370.33000 ┆ 4374.00000 ┆ 4370.33000 ┆ … ┆ 1724  ┆ 329.551    ┆ 1440820.64 ┆ 0      │\n",
       "│ 000        ┆ 000        ┆ 000        ┆ 000        ┆   ┆       ┆            ┆ 138        ┆        │\n",
       "│ 1756598520 ┆ 4374.00000 ┆ 4376.52000 ┆ 4373.99000 ┆ … ┆ 1995  ┆ 1107.093   ┆ 4843832.56 ┆ 0      │\n",
       "│ 000        ┆ 000        ┆ 000        ┆ 000        ┆   ┆       ┆            ┆ 408        ┆        │\n",
       "│ 1756598580 ┆ 4375.95000 ┆ 4377.68000 ┆ 4373.97000 ┆ … ┆ 2025  ┆ 874.187    ┆ 3825725.01 ┆ 0      │\n",
       "│ 000        ┆ 000        ┆ 000        ┆ 000        ┆   ┆       ┆            ┆ 92         ┆        │\n",
       "│ 1756598640 ┆ 4374.76000 ┆ 4376.38000 ┆ 4372.31000 ┆ … ┆ 2067  ┆ 267.918    ┆ 1171738.66 ┆ 0      │\n",
       "│ 000        ┆ 000        ┆ 000        ┆ 000        ┆   ┆       ┆            ┆ 056        ┆        │\n",
       "│ …          ┆ …          ┆ …          ┆ …          ┆ … ┆ …     ┆ …          ┆ …          ┆ …      │\n",
       "│ 1756684500 ┆ 4386.12000 ┆ 4387.46000 ┆ 4384.61000 ┆ … ┆ 2609  ┆ 1061.264   ┆ 4654474.02 ┆ 0      │\n",
       "│ 000        ┆ 000        ┆ 000        ┆ 000        ┆   ┆       ┆            ┆ 216        ┆        │\n",
       "│ 1756684560 ┆ 4387.22000 ┆ 4389.02000 ┆ 4385.81000 ┆ … ┆ 2543  ┆ 866.122    ┆ 3800123.81 ┆ 0      │\n",
       "│ 000        ┆ 000        ┆ 000        ┆ 000        ┆   ┆       ┆            ┆ 356        ┆        │\n",
       "│ 1756684620 ┆ 4389.02000 ┆ 4389.93000 ┆ 4387.49000 ┆ … ┆ 3190  ┆ 2005.31    ┆ 8800762.28 ┆ 0      │\n",
       "│ 000        ┆ 000        ┆ 000        ┆ 000        ┆   ┆       ┆            ┆ 671        ┆        │\n",
       "│ 1756684680 ┆ 4387.72000 ┆ 4389.11000 ┆ 4386.37000 ┆ … ┆ 2812  ┆ 740.183    ┆ 3247434.47 ┆ 0      │\n",
       "│ 000        ┆ 000        ┆ 000        ┆ 000        ┆   ┆       ┆            ┆ 681        ┆        │\n",
       "│ 1756684740 ┆ 4386.70000 ┆ 4390.62000 ┆ 4386.69000 ┆ … ┆ 2284  ┆ 1078.582   ┆ 4734039.10 ┆ 0      │\n",
       "│ 000        ┆ 000        ┆ 000        ┆ 000        ┆   ┆       ┆            ┆ 822        ┆        │\n",
       "└────────────┴────────────┴────────────┴────────────┴───┴───────┴────────────┴────────────┴────────┘"
      ]
     },
     "execution_count": 11,
     "metadata": {},
     "output_type": "execute_result"
    }
   ],
   "source": [
    "df = pl.read_parquet(\"data/2025/08/31/klines/ETHUSDT-1m.parquet\")\n",
    "df"
   ]
  },
  {
   "cell_type": "code",
   "execution_count": null,
   "id": "faea1359",
   "metadata": {},
   "outputs": [
    {
     "data": {
      "text/html": [
       "<div><style>\n",
       ".dataframe > thead > tr,\n",
       ".dataframe > tbody > tr {\n",
       "  text-align: right;\n",
       "  white-space: pre-wrap;\n",
       "}\n",
       "</style>\n",
       "<small>shape: (1_336_836, 7)</small><table border=\"1\" class=\"dataframe\"><thead><tr><th>agg_trade_id</th><th>price</th><th>quantity</th><th>first_trade_id</th><th>last_trade_id</th><th>transact_time</th><th>is_buyer_maker</th></tr><tr><td>i64</td><td>decimal[38,2]</td><td>decimal[38,3]</td><td>i64</td><td>i64</td><td>i64</td><td>bool</td></tr></thead><tbody><tr><td>2424542489</td><td>4372.00</td><td>0.140</td><td>6309044706</td><td>6309044706</td><td>1756598401116</td><td>false</td></tr><tr><td>2424542490</td><td>4371.99</td><td>0.028</td><td>6309044707</td><td>6309044707</td><td>1756598401142</td><td>true</td></tr><tr><td>2424542491</td><td>4372.00</td><td>0.615</td><td>6309044708</td><td>6309044709</td><td>1756598401159</td><td>false</td></tr><tr><td>2424542492</td><td>4371.99</td><td>0.463</td><td>6309044710</td><td>6309044711</td><td>1756598401212</td><td>true</td></tr><tr><td>2424542493</td><td>4372.00</td><td>55.452</td><td>6309044712</td><td>6309044715</td><td>1756598401288</td><td>false</td></tr><tr><td>&hellip;</td><td>&hellip;</td><td>&hellip;</td><td>&hellip;</td><td>&hellip;</td><td>&hellip;</td><td>&hellip;</td></tr><tr><td>2425879320</td><td>4389.59</td><td>0.094</td><td>6312821459</td><td>6312821459</td><td>1756684799519</td><td>false</td></tr><tr><td>2425879321</td><td>4389.58</td><td>0.255</td><td>6312821460</td><td>6312821462</td><td>1756684799565</td><td>true</td></tr><tr><td>2425879322</td><td>4389.58</td><td>1.100</td><td>6312821463</td><td>6312821464</td><td>1756684799858</td><td>true</td></tr><tr><td>2425879323</td><td>4389.59</td><td>0.007</td><td>6312821465</td><td>6312821465</td><td>1756684799967</td><td>false</td></tr><tr><td>2425879324</td><td>4389.58</td><td>0.670</td><td>6312821466</td><td>6312821467</td><td>1756684799977</td><td>true</td></tr></tbody></table></div>"
      ],
      "text/plain": [
       "shape: (1_336_836, 7)\n",
       "┌──────────────┬─────────────┬─────────────┬─────────────┬─────────────┬─────────────┬─────────────┐\n",
       "│ agg_trade_id ┆ price       ┆ quantity    ┆ first_trade ┆ last_trade_ ┆ transact_ti ┆ is_buyer_ma │\n",
       "│ ---          ┆ ---         ┆ ---         ┆ _id         ┆ id          ┆ me          ┆ ker         │\n",
       "│ i64          ┆ decimal[38, ┆ decimal[38, ┆ ---         ┆ ---         ┆ ---         ┆ ---         │\n",
       "│              ┆ 2]          ┆ 3]          ┆ i64         ┆ i64         ┆ i64         ┆ bool        │\n",
       "╞══════════════╪═════════════╪═════════════╪═════════════╪═════════════╪═════════════╪═════════════╡\n",
       "│ 2424542489   ┆ 4372.00     ┆ 0.140       ┆ 6309044706  ┆ 6309044706  ┆ 17565984011 ┆ false       │\n",
       "│              ┆             ┆             ┆             ┆             ┆ 16          ┆             │\n",
       "│ 2424542490   ┆ 4371.99     ┆ 0.028       ┆ 6309044707  ┆ 6309044707  ┆ 17565984011 ┆ true        │\n",
       "│              ┆             ┆             ┆             ┆             ┆ 42          ┆             │\n",
       "│ 2424542491   ┆ 4372.00     ┆ 0.615       ┆ 6309044708  ┆ 6309044709  ┆ 17565984011 ┆ false       │\n",
       "│              ┆             ┆             ┆             ┆             ┆ 59          ┆             │\n",
       "│ 2424542492   ┆ 4371.99     ┆ 0.463       ┆ 6309044710  ┆ 6309044711  ┆ 17565984012 ┆ true        │\n",
       "│              ┆             ┆             ┆             ┆             ┆ 12          ┆             │\n",
       "│ 2424542493   ┆ 4372.00     ┆ 55.452      ┆ 6309044712  ┆ 6309044715  ┆ 17565984012 ┆ false       │\n",
       "│              ┆             ┆             ┆             ┆             ┆ 88          ┆             │\n",
       "│ …            ┆ …           ┆ …           ┆ …           ┆ …           ┆ …           ┆ …           │\n",
       "│ 2425879320   ┆ 4389.59     ┆ 0.094       ┆ 6312821459  ┆ 6312821459  ┆ 17566847995 ┆ false       │\n",
       "│              ┆             ┆             ┆             ┆             ┆ 19          ┆             │\n",
       "│ 2425879321   ┆ 4389.58     ┆ 0.255       ┆ 6312821460  ┆ 6312821462  ┆ 17566847995 ┆ true        │\n",
       "│              ┆             ┆             ┆             ┆             ┆ 65          ┆             │\n",
       "│ 2425879322   ┆ 4389.58     ┆ 1.100       ┆ 6312821463  ┆ 6312821464  ┆ 17566847998 ┆ true        │\n",
       "│              ┆             ┆             ┆             ┆             ┆ 58          ┆             │\n",
       "│ 2425879323   ┆ 4389.59     ┆ 0.007       ┆ 6312821465  ┆ 6312821465  ┆ 17566847999 ┆ false       │\n",
       "│              ┆             ┆             ┆             ┆             ┆ 67          ┆             │\n",
       "│ 2425879324   ┆ 4389.58     ┆ 0.670       ┆ 6312821466  ┆ 6312821467  ┆ 17566847999 ┆ true        │\n",
       "│              ┆             ┆             ┆             ┆             ┆ 77          ┆             │\n",
       "└──────────────┴─────────────┴─────────────┴─────────────┴─────────────┴─────────────┴─────────────┘"
      ]
     },
     "execution_count": 5,
     "metadata": {},
     "output_type": "execute_result"
    }
   ],
   "source": []
  },
  {
   "cell_type": "code",
   "execution_count": null,
   "id": "9f9f0f34",
   "metadata": {},
   "outputs": [],
   "source": []
  }
 ],
 "metadata": {
  "kernelspec": {
   "display_name": "crypto-data",
   "language": "python",
   "name": "python3"
  },
  "language_info": {
   "codemirror_mode": {
    "name": "ipython",
    "version": 3
   },
   "file_extension": ".py",
   "mimetype": "text/x-python",
   "name": "python",
   "nbconvert_exporter": "python",
   "pygments_lexer": "ipython3",
   "version": "3.13.7"
  }
 },
 "nbformat": 4,
 "nbformat_minor": 5
}
